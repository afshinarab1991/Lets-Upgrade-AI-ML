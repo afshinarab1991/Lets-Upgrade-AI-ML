{
 "cells": [
  {
   "cell_type": "markdown",
   "metadata": {},
   "source": [
    "### Question 1 :\n",
    "Write a program to subtract two complex numbers in Python"
   ]
  },
  {
   "cell_type": "code",
   "execution_count": null,
   "metadata": {},
   "outputs": [],
   "source": [
    "while True:\n",
    "    try:\n",
    "        a = complex(input(\"Write the first Complex Number (an integer or a+bj): \"))\n",
    "        b = complex(input(\"Write the second Complex Number(format: a+bj): \"))\n",
    "        print (a-b)\n",
    "        break\n",
    "    except ValueError:\n",
    "        print(\"Wrong Input! Try again.\")"
   ]
  },
  {
   "cell_type": "markdown",
   "metadata": {},
   "source": [
    "### Question 2 :\n",
    "Write a program to find the fourth root of a number."
   ]
  },
  {
   "cell_type": "code",
   "execution_count": null,
   "metadata": {},
   "outputs": [],
   "source": [
    "while True:\n",
    "    try:\n",
    "        rt = int(input(\"Enter the root number:\"))\n",
    "        x = int(input(\"Write a number:\"))\n",
    "        mem = x\n",
    "        x**=(1/rt)\n",
    "        x = round(x,4)\n",
    "        print (f\"The root '{rt}' of {mem} is: {x}\")\n",
    "        break\n",
    "    except ValueError:\n",
    "        print(\"Invalid Input! Try again.\")"
   ]
  },
  {
   "cell_type": "markdown",
   "metadata": {},
   "source": [
    "### Question 3:\n",
    "Write a program to swap two numbers in Python with the help of a temporary variable."
   ]
  },
  {
   "cell_type": "code",
   "execution_count": null,
   "metadata": {},
   "outputs": [],
   "source": [
    "y1 = input(\"First Number: \")\n",
    "y2 = input(\"Second Number: \")\n",
    "yt = 0\n",
    "yt = y1\n",
    "y1 = y2\n",
    "y2 = yt\n",
    "print(y1,y2)"
   ]
  },
  {
   "cell_type": "markdown",
   "metadata": {},
   "source": [
    "### Question 4:\n",
    "Write a program to swap two numbers in Python without using a temporary variable."
   ]
  },
  {
   "cell_type": "code",
   "execution_count": null,
   "metadata": {},
   "outputs": [],
   "source": [
    "x1 = input(\"First Number: \")\n",
    "x2 = input(\"Second Number: \")\n",
    "\n",
    "x1,x2 = x2,x1\n",
    "print(x1,x2)"
   ]
  },
  {
   "cell_type": "markdown",
   "metadata": {},
   "source": [
    "### Question 5:\n",
    "Write a program to convert fahrenheit to kelvin and celsius both."
   ]
  },
  {
   "cell_type": "code",
   "execution_count": null,
   "metadata": {},
   "outputs": [],
   "source": [
    "while True:\n",
    "    try:\n",
    "        temp = int(input(\"Enter a number representing the temperature degree: \"))\n",
    "        conv_type = int(input(\"What is the type of temperature you entered?: \\n1.Celcius\\n2.Kelvin\\n3.Fahrenheit\\n\"))\n",
    "        kelvin = 0\n",
    "        fahrenheit = 0\n",
    "        celcius = 0\n",
    "        if conv_type == 1:\n",
    "            celcius = temp\n",
    "            kelvin = temp + 273.5\n",
    "            fahrenheit = round((temp * 1.8) + 32,2)\n",
    "            \n",
    "        elif conv_type == 2:\n",
    "            kelvin = temp\n",
    "            celcius = temp - 273.5\n",
    "            fahrenheit = round((temp * (9/5)) - 459.67,2)\n",
    "            \n",
    "        elif conv_type == 3:\n",
    "            fahrenheit = temp\n",
    "            celcius = round((temp - 32) * (5/9),2)\n",
    "            kelvin = round((temp + 459.67) * (5/9),2)\n",
    "        else:\n",
    "            print(f\"INVALID TEMPERATURE TYPE!\") \n",
    "            table = \"\"\n",
    "        table = f\"------------Converted Units-------------\\n\\t¦{celcius}°C\\t¦{kelvin} K\\t¦{fahrenheit}°F\\n----------------------------------------\"    \n",
    "        print (table)\n",
    "        break\n",
    "    except ValueError:\n",
    "        print(\"Invalid Input! Try again.\")\n",
    "        "
   ]
  },
  {
   "cell_type": "markdown",
   "metadata": {},
   "source": [
    "### Question 6:\n",
    "Write a program to demonstrate all the available data types in Python. Hint: Use type() function."
   ]
  },
  {
   "cell_type": "code",
   "execution_count": 10,
   "metadata": {},
   "outputs": [
    {
     "name": "stdout",
     "output_type": "stream",
     "text": [
      "<class 'list'>\n"
     ]
    }
   ],
   "source": [
    "# I am not sure about the question and what it wants exactly, but this is what came in my mind:\n",
    "str_ = \"String Data Type\"\n",
    "int_ = 12\n",
    "float_ = 3.14\n",
    "cmplx = 8+2j\n",
    "dict_ = {1:\"Test 1\", 2:\"Test2\"}\n",
    "boolean = True\n",
    "set_ = {\"big\", \"bang\", \"theory\"}\n",
    "list_ = [\"Apple\", 1 , \"Anything!\", 2.34]\n",
    "tuple_ = (3,4)\n",
    "data = list_    #we can change it to any of the above variables;\n",
    "print(type(data))"
   ]
  }
 ],
 "metadata": {
  "kernelspec": {
   "display_name": "Python 3",
   "language": "python",
   "name": "python3"
  },
  "language_info": {
   "codemirror_mode": {
    "name": "ipython",
    "version": 3
   },
   "file_extension": ".py",
   "mimetype": "text/x-python",
   "name": "python",
   "nbconvert_exporter": "python",
   "pygments_lexer": "ipython3",
   "version": "3.7.4"
  }
 },
 "nbformat": 4,
 "nbformat_minor": 2
}
