{
 "cells": [
  {
   "cell_type": "code",
   "execution_count": 1,
   "metadata": {},
   "outputs": [],
   "source": [
    "import numpy as np\n",
    "import random"
   ]
  },
  {
   "cell_type": "markdown",
   "metadata": {},
   "source": [
    "# 1. Create a 3x3x3 array with random values "
   ]
  },
  {
   "cell_type": "code",
   "execution_count": 18,
   "metadata": {},
   "outputs": [
    {
     "data": {
      "text/plain": [
       "array([[[0.60064005, 0.28193122, 0.1792278 ],\n",
       "        [0.84921492, 0.15880237, 0.61936962],\n",
       "        [0.6323258 , 0.59246668, 0.94159862]],\n",
       "\n",
       "       [[0.61516849, 0.04033746, 0.51780051],\n",
       "        [0.60920336, 0.65256418, 0.16778344],\n",
       "        [0.58850465, 0.92214774, 0.58414579]],\n",
       "\n",
       "       [[0.35505646, 0.82729614, 0.34533839],\n",
       "        [0.60833387, 0.21239538, 0.3141275 ],\n",
       "        [0.0638541 , 0.43951555, 0.43827512]]])"
      ]
     },
     "execution_count": 18,
     "metadata": {},
     "output_type": "execute_result"
    }
   ],
   "source": [
    "np.random.rand(3,3,3)"
   ]
  },
  {
   "cell_type": "markdown",
   "metadata": {},
   "source": [
    "# 2.Create a 5x5 matrix with values 1,2,3,4 just below the diagonal"
   ]
  },
  {
   "cell_type": "code",
   "execution_count": 21,
   "metadata": {},
   "outputs": [
    {
     "data": {
      "text/plain": [
       "array([[ 0,  1,  2,  3,  4],\n",
       "       [ 1,  6,  7,  8,  9],\n",
       "       [10,  2, 12, 13, 14],\n",
       "       [15, 16,  3, 18, 19],\n",
       "       [20, 21, 22,  4, 24]])"
      ]
     },
     "execution_count": 21,
     "metadata": {},
     "output_type": "execute_result"
    }
   ],
   "source": [
    "a = np.array(range(25)).reshape(5,5)\n",
    "a[[1,2,3,4],[0,1,2,3]] = [1,2,3,4]\n",
    "a"
   ]
  },
  {
   "cell_type": "markdown",
   "metadata": {},
   "source": [
    "# 3.Create a 8x8 matrix and fill it with a checkerboard pattern"
   ]
  },
  {
   "cell_type": "code",
   "execution_count": 33,
   "metadata": {},
   "outputs": [
    {
     "data": {
      "text/plain": [
       "array([[0, 1, 0, 1, 0, 1, 0, 1],\n",
       "       [1, 0, 1, 0, 1, 0, 1, 0],\n",
       "       [0, 1, 0, 1, 0, 1, 0, 1],\n",
       "       [1, 0, 1, 0, 1, 0, 1, 0],\n",
       "       [0, 1, 0, 1, 0, 1, 0, 1],\n",
       "       [1, 0, 1, 0, 1, 0, 1, 0],\n",
       "       [0, 1, 0, 1, 0, 1, 0, 1],\n",
       "       [1, 0, 1, 0, 1, 0, 1, 0]])"
      ]
     },
     "execution_count": 33,
     "metadata": {},
     "output_type": "execute_result"
    }
   ],
   "source": [
    "a = np.zeros((8,8),dtype=int)\n",
    "a[1::2,::2] = 1\n",
    "a[::2,1::2] = 1\n",
    "a"
   ]
  },
  {
   "cell_type": "markdown",
   "metadata": {},
   "source": [
    "# 4. Normalize a 5x5 random matrix"
   ]
  },
  {
   "cell_type": "code",
   "execution_count": 37,
   "metadata": {},
   "outputs": [
    {
     "data": {
      "text/plain": [
       "array([[1.        , 0.222831  , 0.89490564, 0.44506436, 0.        ],\n",
       "       [0.24956479, 0.85124897, 0.34597565, 0.84879138, 0.58711201],\n",
       "       [0.38413114, 0.41106748, 0.45914969, 0.24485181, 0.27555996],\n",
       "       [0.12391608, 0.63724184, 0.50085851, 0.78340569, 0.54318178],\n",
       "       [0.27232952, 0.15754076, 0.23919501, 0.88402678, 0.36191122]])"
      ]
     },
     "execution_count": 37,
     "metadata": {},
     "output_type": "execute_result"
    }
   ],
   "source": [
    "x= np.random.random((5,5))\n",
    "xmax, xmin = x.max(), x.min()\n",
    "x = (x - xmin)/(xmax - xmin)\n",
    "x"
   ]
  },
  {
   "cell_type": "markdown",
   "metadata": {},
   "source": [
    "# 5.  How to find common values between two arrays?"
   ]
  },
  {
   "cell_type": "code",
   "execution_count": 43,
   "metadata": {},
   "outputs": [
    {
     "name": "stdout",
     "output_type": "stream",
     "text": [
      "[ 0  2  4  6  8 10 12 14 16 18]\n"
     ]
    }
   ],
   "source": [
    "a1 = np.array(range(0,40,2))\n",
    "a2 = list(range(0,20)) + [10,8,6,4,4,4,3,2,6,7,7,5,4,3]\n",
    "print(np.intersect1d(a1, a2))"
   ]
  },
  {
   "cell_type": "markdown",
   "metadata": {},
   "source": [
    "# 6.How to get the dates of yesterday, today and tomorrow?"
   ]
  },
  {
   "cell_type": "code",
   "execution_count": 46,
   "metadata": {},
   "outputs": [
    {
     "name": "stdout",
     "output_type": "stream",
     "text": [
      "2020-07-26\n",
      "2020-07-27\n",
      "2020-07-28\n"
     ]
    }
   ],
   "source": [
    "yesterday = np.datetime64('today', 'D') - np.timedelta64(1, 'D')\n",
    "today     = np.datetime64('today', 'D')\n",
    "tomorrow  = np.datetime64('today', 'D') + np.timedelta64(1, 'D')\n",
    "print(f'{yesterday}\\n{today}\\n{tomorrow}')"
   ]
  },
  {
   "cell_type": "markdown",
   "metadata": {},
   "source": [
    "# 7. Consider two random array A and B, check if they are equal"
   ]
  },
  {
   "cell_type": "code",
   "execution_count": 63,
   "metadata": {},
   "outputs": [
    {
     "data": {
      "text/plain": [
       "True"
      ]
     },
     "execution_count": 63,
     "metadata": {},
     "output_type": "execute_result"
    }
   ],
   "source": [
    "y = [i for i in range(20) if (i % 2) == 0]\n",
    "x = np.array(range(0,20,2))\n",
    "\n",
    "np.allclose(x, y)\n"
   ]
  },
  {
   "cell_type": "markdown",
   "metadata": {},
   "source": [
    "# 8.Create random vector of size 10 and replace the maximum value by 0 "
   ]
  },
  {
   "cell_type": "code",
   "execution_count": 68,
   "metadata": {},
   "outputs": [
    {
     "name": "stdout",
     "output_type": "stream",
     "text": [
      "[0.57949912 0.27037147 0.29153512 0.7523558  0.27986078 0.84290576\n",
      " 0.12705406 0.24302061 0.88416939 0.99256046]\n",
      ".............\n",
      "[ 0.57949912  0.27037147  0.29153512  0.7523558   0.27986078  0.84290576\n",
      "  0.12705406  0.24302061  0.88416939 -1.        ]\n"
     ]
    }
   ],
   "source": [
    "r = np.random.random(10)\n",
    "print(r)\n",
    "print('.............')\n",
    "r[r.argmax()] = -1\n",
    "print(r)"
   ]
  },
  {
   "cell_type": "markdown",
   "metadata": {},
   "source": [
    "# 9. How to print all the values of an array?"
   ]
  },
  {
   "cell_type": "code",
   "execution_count": 109,
   "metadata": {},
   "outputs": [
    {
     "name": "stdout",
     "output_type": "stream",
     "text": [
      "1.0-\n",
      "0.0-\n",
      "0.0-\n",
      "0.0-\n",
      "0.0-\n",
      "1.0-\n",
      "0.0-\n",
      "0.0-\n",
      "0.0-\n",
      "0.0-\n",
      "1.0-\n",
      "0.0-\n",
      "0.0-\n",
      "0.0-\n",
      "0.0-\n",
      "1.0-\n"
     ]
    }
   ],
   "source": [
    "a = np.identity(4)\n",
    "for i in a:\n",
    "    for j in i:\n",
    "        print(j,end = \"-\\n\")"
   ]
  },
  {
   "cell_type": "markdown",
   "metadata": {},
   "source": [
    "# 10.Subtract the mean of each row of a matrix"
   ]
  },
  {
   "cell_type": "code",
   "execution_count": 112,
   "metadata": {},
   "outputs": [
    {
     "data": {
      "text/plain": [
       "array([[ 0.28869524, -0.17112081, -0.3035839 ,  0.43675557, -0.2507461 ],\n",
       "       [-0.25665316, -0.28357313,  0.47535387,  0.48791783, -0.42304541],\n",
       "       [ 0.52925516, -0.3078063 , -0.1091958 , -0.22772863,  0.11547556],\n",
       "       [ 0.1604969 , -0.20738571,  0.05885265,  0.17737459, -0.18933843],\n",
       "       [-0.33373594, -0.06347676,  0.1553619 , -0.08028481,  0.32213561]])"
      ]
     },
     "execution_count": 112,
     "metadata": {},
     "output_type": "execute_result"
    }
   ],
   "source": [
    "a = np.random.random((5,5))\n",
    "s = a - a.mean(axis=1, keepdims=True)\n",
    "s"
   ]
  },
  {
   "cell_type": "markdown",
   "metadata": {},
   "source": [
    "# 11.Consider a given vector, how to add 1 to each element indexed by a second vector (be careful with repeated indices)? "
   ]
  },
  {
   "cell_type": "code",
   "execution_count": 152,
   "metadata": {},
   "outputs": [
    {
     "name": "stdout",
     "output_type": "stream",
     "text": [
      "original list :\n",
      "[1, 3, 5, 7, 9, 11, 13, 15, 17, 19, 21, 23, 25, 27, 29, 31, 33, 35, 37, 39]\n",
      "index: \n",
      "[0, 2, 4, 6, 8, 10, 12, 14, 16, 18]\n",
      "modified list :\n",
      "[2, 3, 6, 7, 10, 11, 14, 15, 18, 19, 22, 23, 26, 27, 30, 31, 34, 35, 38, 39]\n"
     ]
    }
   ],
   "source": [
    "a = (range(0,20,2))\n",
    "\n",
    "b = list(range(1,40,2))\n",
    "print(f\"original list :\\n{b}\")\n",
    "for i in a:\n",
    "    b[i] += 1\n",
    "print(f\"index: \\n{list(a)}\")\n",
    "print(f\"modified list :\\n{b}\")"
   ]
  },
  {
   "cell_type": "markdown",
   "metadata": {},
   "source": [
    "# 12.How to get the diagonal of a dot product?"
   ]
  },
  {
   "cell_type": "code",
   "execution_count": 162,
   "metadata": {},
   "outputs": [
    {
     "data": {
      "text/plain": [
       "array([   60,   672,  1932,  3840,  6396,  9600, 13452, 17952, 23100])"
      ]
     },
     "execution_count": 162,
     "metadata": {},
     "output_type": "execute_result"
    }
   ],
   "source": [
    "a = np.arange(27).reshape(9, 3)\n",
    "b = np.arange(9).reshape(3, 3)\n",
    "np.einsum('ij,jk,ik->i', a, b, a)"
   ]
  },
  {
   "cell_type": "markdown",
   "metadata": {},
   "source": [
    "# 13.How to find the most frequent value in an array?"
   ]
  },
  {
   "cell_type": "code",
   "execution_count": 163,
   "metadata": {},
   "outputs": [
    {
     "name": "stdout",
     "output_type": "stream",
     "text": [
      "1\n"
     ]
    }
   ],
   "source": [
    "x = [1,2,3,4,5,6,7,5,4,3,2,1,1,1,12,3,4,5,6,4,3,2,2,1,1,1,2,3,4]\n",
    "print(np.bincount(x).argmax())"
   ]
  },
  {
   "cell_type": "markdown",
   "metadata": {},
   "source": [
    "# 14.How to get the n largest values of an array"
   ]
  },
  {
   "cell_type": "code",
   "execution_count": 166,
   "metadata": {},
   "outputs": [
    {
     "data": {
      "text/plain": [
       "26"
      ]
     },
     "execution_count": 166,
     "metadata": {},
     "output_type": "execute_result"
    }
   ],
   "source": [
    "a.argmax()"
   ]
  },
  {
   "cell_type": "markdown",
   "metadata": {},
   "source": [
    "# 15.How to create a record array from a regular array?"
   ]
  },
  {
   "cell_type": "code",
   "execution_count": 178,
   "metadata": {},
   "outputs": [],
   "source": [
    "x1=np.array([1,2,3,4])\n",
    "x2=np.array(['a','b','c','d'])\n",
    "x3=np.array([9,8,7,6])\n",
    "r = np.core.records.fromarrays([x1,x2,x3],names='a,b,c')"
   ]
  },
  {
   "cell_type": "code",
   "execution_count": null,
   "metadata": {},
   "outputs": [],
   "source": []
  }
 ],
 "metadata": {
  "kernelspec": {
   "display_name": "Python 3",
   "language": "python",
   "name": "python3"
  },
  "language_info": {
   "codemirror_mode": {
    "name": "ipython",
    "version": 3
   },
   "file_extension": ".py",
   "mimetype": "text/x-python",
   "name": "python",
   "nbconvert_exporter": "python",
   "pygments_lexer": "ipython3",
   "version": "3.7.4"
  }
 },
 "nbformat": 4,
 "nbformat_minor": 2
}
