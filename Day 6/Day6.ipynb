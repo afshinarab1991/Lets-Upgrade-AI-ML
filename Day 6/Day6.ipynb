{
 "cells": [
  {
   "cell_type": "markdown",
   "metadata": {},
   "source": [
    "### Question 1:\n",
    "Assuming that we have some email addresses in the \"username@companyname.com\" format, please write program\n",
    "to print the company name of a given email address. Both user names and company names are composed of letters\n",
    "only"
   ]
  },
  {
   "cell_type": "code",
   "execution_count": 1,
   "metadata": {},
   "outputs": [],
   "source": [
    "company_emails = [\"steve@apple.com\",\"marissa_mayer@yahoo.com\",\"sundar@google.com\",\"jeff@amazon.com\",\"bruce@wayne.org\", \"tim@aol.com\", \"afshin.arab@psu.edu\"]"
   ]
  },
  {
   "cell_type": "code",
   "execution_count": 2,
   "metadata": {},
   "outputs": [],
   "source": [
    "def company_name(emails): #using lists and strings\n",
    "    cn = []\n",
    "    pn_cn = []\n",
    "    cn_str = \"\"\n",
    "    for i in emails:\n",
    "        t1 = i.split(\"@\")[1].split(\".\")[0]\n",
    "        t2 = t1.upper() if len(t1)<=3 else t1.title()\n",
    "        cn.append(t2)   \n",
    "    for j in cn:\n",
    "        cn_str += j + \", \"\n",
    "    print (f'Company names are {cn_str[:-2].rsplit(\",\",1)[0]} and{cn_str[:-2].rsplit(\",\",1)[1]} where:')\n",
    "    for k in emails:\n",
    "        c1 = k.split(\"@\")[1].split(\".\")[0]\n",
    "        c2 = c1.upper() if len(c1)<=3 else c1.title()\n",
    "        pn = f'{k.split(\"@\")[0].title().replace(\"_\",\" \").replace(\".\",\" \")} works at {c2}'   \n",
    "        print(pn)\n",
    "        "
   ]
  },
  {
   "cell_type": "code",
   "execution_count": 3,
   "metadata": {},
   "outputs": [
    {
     "name": "stdout",
     "output_type": "stream",
     "text": [
      "Company names are Apple, Yahoo, Google, Amazon, Wayne, AOL and PSU where:\n",
      "Steve works at Apple\n",
      "Marissa Mayer works at Yahoo\n",
      "Sundar works at Google\n",
      "Jeff works at Amazon\n",
      "Bruce works at Wayne\n",
      "Tim works at AOL\n",
      "Afshin Arab works at PSU\n"
     ]
    }
   ],
   "source": [
    "company_name(company_emails)"
   ]
  },
  {
   "cell_type": "code",
   "execution_count": 4,
   "metadata": {},
   "outputs": [],
   "source": [
    "def company_names_alt(emails): #alternative method using dictionary and list\n",
    "        line = \"-\"*66 #decoration line\n",
    "        print(line)\n",
    "        the_dict = {} #the dictionary which stores the person_name:company_name\n",
    "        for i in emails:\n",
    "            #cnr = company_name_raw\n",
    "            cnr = i.split(\"@\")[1].split(\".\")[0] #gets the company name (raw) \n",
    "            company_name_final = cnr.upper() if len(cnr)<=3 else cnr.title() #changes the name to upper or title (final)\n",
    "            person_name = i.split(\"@\")[0].title().replace(\"_\",\" \").replace(\".\", \" \")\n",
    "            the_dict [person_name] = company_name_final #storing the values/keys in dictionary\n",
    "        *other, last = (list(the_dict.values())) #separating the last value from the previous ones;\n",
    "        temp_str = ', '.join(str(s) for s in other) #making the first string of company names(without the last company)\n",
    "        print(f\"Name of the companies are {temp_str}, and {last} where:\")\n",
    "        for key, value in iter(the_dict.items()): #generating the loop for the person's name and company name string\n",
    "            print(f\">> {key} works at {value}\")\n",
    "        print(line)"
   ]
  },
  {
   "cell_type": "code",
   "execution_count": 5,
   "metadata": {},
   "outputs": [
    {
     "name": "stdout",
     "output_type": "stream",
     "text": [
      "------------------------------------------------------------------\n",
      "Name of the companies are Apple, Yahoo, Google, Amazon, Wayne, AOL, and PSU where:\n",
      ">> Steve works at Apple\n",
      ">> Marissa Mayer works at Yahoo\n",
      ">> Sundar works at Google\n",
      ">> Jeff works at Amazon\n",
      ">> Bruce works at Wayne\n",
      ">> Tim works at AOL\n",
      ">> Afshin Arab works at PSU\n",
      "------------------------------------------------------------------\n"
     ]
    }
   ],
   "source": [
    "company_names_alt (company_emails)"
   ]
  },
  {
   "cell_type": "markdown",
   "metadata": {},
   "source": [
    "### Question 2:\n",
    "Write a program that accepts a comma-separated sequence of words as input and prints the words in a comma\n",
    "separated sequence after sorting them alphabetically"
   ]
  },
  {
   "cell_type": "code",
   "execution_count": 6,
   "metadata": {},
   "outputs": [],
   "source": [
    "example = \"hello,welcome,world,my,is,play,everyone,name,apple,pizza,bone,moon,cat\"\n",
    "def word_sorter (string):\n",
    "    splitted = sorted(string.split(\",\"))\n",
    "    sorted_str = ', '.join(str(i) for i in splitted)\n",
    "    print((sorted_str))"
   ]
  },
  {
   "cell_type": "code",
   "execution_count": 7,
   "metadata": {},
   "outputs": [
    {
     "name": "stdout",
     "output_type": "stream",
     "text": [
      "apple, bone, cat, everyone, hello, is, moon, my, name, pizza, play, welcome, world\n"
     ]
    }
   ],
   "source": [
    "word_sorter(example)"
   ]
  },
  {
   "cell_type": "markdown",
   "metadata": {},
   "source": [
    "# --------------------------------------------------------------------------------"
   ]
  },
  {
   "cell_type": "markdown",
   "metadata": {},
   "source": [
    "### Question 3:\n",
    "Create your own Jupyter Notebook for Sets.\n",
    "Reference link: https://www.w3schools.com/python/python_sets.asp"
   ]
  },
  {
   "cell_type": "markdown",
   "metadata": {},
   "source": [
    "### Set\n",
    "A set is a collection which is unordered and unindexed. In Python sets are written with curly brackets."
   ]
  },
  {
   "cell_type": "code",
   "execution_count": 8,
   "metadata": {},
   "outputs": [
    {
     "name": "stdout",
     "output_type": "stream",
     "text": [
      "{'fail', 'test', 'pass'}\n"
     ]
    }
   ],
   "source": [
    "# Create a Set:\n",
    "thisset = {\"test\", \"pass\", \"fail\"}\n",
    "print(thisset)"
   ]
  },
  {
   "cell_type": "code",
   "execution_count": 9,
   "metadata": {},
   "outputs": [
    {
     "name": "stdout",
     "output_type": "stream",
     "text": [
      "cherry\n",
      "banana\n",
      "apple\n"
     ]
    }
   ],
   "source": [
    "# Access Items\n",
    "# You cannot access items in a set by referring to an index, since sets are unordered the items has no index.\n",
    "\"\"\"But you can loop through the set items using a for loop, or ask if a specified value is present in a set, \n",
    "by using the in keyword.\"\"\"\n",
    "# Loop through the set, and print the values:\n",
    "thisset = {\"apple\", \"banana\", \"cherry\"}\n",
    "for x in thisset:\n",
    "    print(x)"
   ]
  },
  {
   "cell_type": "markdown",
   "metadata": {},
   "source": [
    "### Adding and Removing Items"
   ]
  },
  {
   "cell_type": "code",
   "execution_count": 10,
   "metadata": {},
   "outputs": [
    {
     "name": "stdout",
     "output_type": "stream",
     "text": [
      "{'cherry', 'banana', 'orange', 'apple'}\n"
     ]
    }
   ],
   "source": [
    "# Change Items\n",
    "\"\"\"Once a set is created, you cannot change its items, but you can add new items;\"\"\"\n",
    "# Add Items\n",
    "\"\"\"\n",
    "To add one item to a set use the add() method.\n",
    "To add more than one item to a set use the update() method\n",
    "\"\"\"\n",
    "# Example:\n",
    "thisset = {\"apple\", \"banana\", \"cherry\"}\n",
    "thisset.add(\"orange\")\n",
    "print(thisset)"
   ]
  },
  {
   "cell_type": "code",
   "execution_count": 11,
   "metadata": {},
   "outputs": [
    {
     "name": "stdout",
     "output_type": "stream",
     "text": [
      "3\n"
     ]
    }
   ],
   "source": [
    "# Get the Length of a Set\n",
    "\"\"\"To determine how many items a set has, use the len() method\"\"\"\n",
    "thisset = {\"apple\", \"banana\", \"cherry\"}\n",
    "print(len(thisset))"
   ]
  },
  {
   "cell_type": "code",
   "execution_count": 12,
   "metadata": {},
   "outputs": [
    {
     "name": "stdout",
     "output_type": "stream",
     "text": [
      "{'cherry', 'apple'}\n"
     ]
    }
   ],
   "source": [
    "# Remove Item\n",
    "\"\"\"To remove an item in a set, use the remove(), or the discard() method.\"\"\"\n",
    "# Example\n",
    "\"\"\"Remove \"banana\" by using the remove() method:\"\"\"\n",
    "thisset = {\"apple\", \"banana\", \"cherry\"}\n",
    "thisset.remove(\"banana\")\n",
    "print(thisset)"
   ]
  },
  {
   "cell_type": "code",
   "execution_count": 13,
   "metadata": {},
   "outputs": [
    {
     "name": "stdout",
     "output_type": "stream",
     "text": [
      "{'cherry', 'apple'}\n"
     ]
    }
   ],
   "source": [
    "# Discard Item\n",
    "\"\"\"Remove \"banana\" by using the discard() method:\"\"\"\n",
    "\"\"\"If the item to remove does not exist, discard() will NOT raise an error.\"\"\"\n",
    "\"\"\"You can also use the pop(), method to remove an item, but this method will remove the last item. \n",
    "Remember that sets are unordered, so you will not know what item that gets removed.\n",
    "The return value of the pop() method is the removed item.\"\"\"\n",
    "thisset = {\"apple\", \"banana\", \"cherry\"}\n",
    "thisset.discard(\"banana\")\n",
    "print(thisset)"
   ]
  },
  {
   "cell_type": "code",
   "execution_count": 14,
   "metadata": {},
   "outputs": [
    {
     "name": "stdout",
     "output_type": "stream",
     "text": [
      "set()\n"
     ]
    }
   ],
   "source": [
    "# The clear() method empties the set:\n",
    "thisset = {\"apple\", \"banana\", \"cherry\"}\n",
    "thisset.clear()\n",
    "print(thisset)"
   ]
  },
  {
   "cell_type": "code",
   "execution_count": 15,
   "metadata": {},
   "outputs": [
    {
     "ename": "NameError",
     "evalue": "name 'set2' is not defined",
     "output_type": "error",
     "traceback": [
      "\u001b[1;31m---------------------------------------------------------------------------\u001b[0m",
      "\u001b[1;31mNameError\u001b[0m                                 Traceback (most recent call last)",
      "\u001b[1;32m<ipython-input-15-a13db00d823e>\u001b[0m in \u001b[0;36m<module>\u001b[1;34m\u001b[0m\n\u001b[0;32m      2\u001b[0m \u001b[0mset2\u001b[0m \u001b[1;33m=\u001b[0m \u001b[1;33m{\u001b[0m\u001b[1;34m\"apple\"\u001b[0m\u001b[1;33m,\u001b[0m \u001b[1;34m\"banana\"\u001b[0m\u001b[1;33m,\u001b[0m \u001b[1;34m\"cherry\"\u001b[0m\u001b[1;33m}\u001b[0m\u001b[1;33m\u001b[0m\u001b[1;33m\u001b[0m\u001b[0m\n\u001b[0;32m      3\u001b[0m \u001b[1;32mdel\u001b[0m \u001b[0mset2\u001b[0m\u001b[1;33m\u001b[0m\u001b[1;33m\u001b[0m\u001b[0m\n\u001b[1;32m----> 4\u001b[1;33m \u001b[0mprint\u001b[0m\u001b[1;33m(\u001b[0m\u001b[0mset2\u001b[0m\u001b[1;33m)\u001b[0m\u001b[1;33m\u001b[0m\u001b[1;33m\u001b[0m\u001b[0m\n\u001b[0m\u001b[0;32m      5\u001b[0m \u001b[1;31m#It will give us an error, because the set is no longer exist;\u001b[0m\u001b[1;33m\u001b[0m\u001b[1;33m\u001b[0m\u001b[1;33m\u001b[0m\u001b[0m\n",
      "\u001b[1;31mNameError\u001b[0m: name 'set2' is not defined"
     ]
    }
   ],
   "source": [
    "# The del keyword will delete the set completely:\n",
    "set2 = {\"apple\", \"banana\", \"cherry\"}\n",
    "del set2\n",
    "print(set2)\n",
    "#It will give us an error, because the set is no longer exist;"
   ]
  },
  {
   "cell_type": "markdown",
   "metadata": {},
   "source": [
    "### Join Two Sets\n",
    "There are several ways to join two or more sets in Python.\n",
    "\n",
    "You can use the union() method that returns a new set containing all items from both sets, or the update() method that inserts all the items from one set into another:"
   ]
  },
  {
   "cell_type": "code",
   "execution_count": 16,
   "metadata": {},
   "outputs": [
    {
     "name": "stdout",
     "output_type": "stream",
     "text": [
      "{'c', 1, 2, 'b', 'a', 3}\n"
     ]
    }
   ],
   "source": [
    "# The union() method returns a new set with all items from both sets:\n",
    "set1 = {\"a\", \"b\" , \"c\"}\n",
    "set2 = {1, 2, 3}\n",
    "set3 = set1.union(set2)\n",
    "print(set3)"
   ]
  },
  {
   "cell_type": "code",
   "execution_count": 17,
   "metadata": {},
   "outputs": [
    {
     "name": "stdout",
     "output_type": "stream",
     "text": [
      "{'c', 1, 2, 'b', 'a', 3}\n"
     ]
    }
   ],
   "source": [
    "# The update() method inserts the items in set2 into set1:\n",
    "set1 = {\"a\", \"b\" , \"c\"}\n",
    "set2 = {1, 2, 3}\n",
    "set1.update(set2)\n",
    "print(set1)"
   ]
  },
  {
   "cell_type": "markdown",
   "metadata": {},
   "source": [
    "# Set Methods\n",
    "### Python has a set of built-in methods that you can use on sets.\n",
    "    add()\t\t\tAdds an element to the sets\n",
    "\n",
    "    clear()\t\t\tRemoves all the elements from the set\n",
    "\n",
    "    copy()\t\t\tReturns a copy of the set\n",
    "\n",
    "    difference()\tReturns a set containing the difference between two or more sets\n",
    "\n",
    "    difference_update()\tRemoves the items in this set that are also included in another, specified set\n",
    "\n",
    "    discard()\t\tRemove the specified item\n",
    "\n",
    "    intersection()\tReturns a set, that is the intersection of two other sets\n",
    "\n",
    "    intersection_update()\tRemoves the items in this set that are not present in other, specified set(s)\n",
    "\n",
    "    isdisjoint()\tReturns whether two sets have a intersection or not\n",
    "\n",
    "    issubset()\t\tReturns whether another set contains this set or not\n",
    "\n",
    "    issuperset()\tReturns whether this set contains another set or not\n",
    "\n",
    "    pop()\t\t\tRemoves an element from the set\n",
    "\n",
    "    remove()\t\tRemoves the specified element\n",
    "\n",
    "    symmetric_difference()\tReturns a set with the symmetric differences of two sets\n",
    "\n",
    "    symmetric_difference_update()\tinserts the symmetric differences from this set and another\n",
    "\n",
    "    union()\t\t\tReturn a set containing the union of sets\n",
    "\n",
    "    update()\t\tUpdate the set with the union of this set and others\n",
    "\n"
   ]
  },
  {
   "cell_type": "markdown",
   "metadata": {},
   "source": [
    "### Question 4:\n",
    "Given a list of n-1 numbers ranging from 1 to n, your task is to find the missing number. There are no duplicates."
   ]
  },
  {
   "cell_type": "code",
   "execution_count": 18,
   "metadata": {},
   "outputs": [],
   "source": [
    "my_numbers = \"1,2,3,4,5,6,7,9,10,11,12,14,19,22,23,25,41\"\n",
    "def find_missing (string):\n",
    "    temp = []\n",
    "    for i in string.split(\",\"):\n",
    "        temp.append(int(i))\n",
    "    return str([x for x in range(temp[0],temp[-1]+1) if x not in temp])"
   ]
  },
  {
   "cell_type": "code",
   "execution_count": 19,
   "metadata": {},
   "outputs": [
    {
     "data": {
      "text/plain": [
       "'[8, 13, 15, 16, 17, 18, 20, 21, 24, 26, 27, 28, 29, 30, 31, 32, 33, 34, 35, 36, 37, 38, 39, 40]'"
      ]
     },
     "execution_count": 19,
     "metadata": {},
     "output_type": "execute_result"
    }
   ],
   "source": [
    "find_missing(my_numbers)"
   ]
  },
  {
   "cell_type": "markdown",
   "metadata": {},
   "source": [
    "### Question 5:\n",
    "With a given list L, write a program to print this list L after removing all duplicate values with original order reserved.\n"
   ]
  },
  {
   "cell_type": "code",
   "execution_count": 56,
   "metadata": {},
   "outputs": [],
   "source": [
    "my_list = \"1,2,3,4,5,5,6,7,8,9,A,9,B,12,13,2,3,B,13,14\"\n",
    "\n",
    "def remove_dups(string):\n",
    "    temp = []\n",
    "    temp_backup = []\n",
    "    for i in string.split(\",\"):  #converting string to list\n",
    "        temp.append(i)\n",
    "    for i in temp:\n",
    "        if i in temp_backup:\n",
    "            continue\n",
    "        else:\n",
    "            temp_backup.append(i)\n",
    "    temp_str = ' '.join(str(s) for s in temp_backup)\n",
    "    print(temp_str)\n"
   ]
  },
  {
   "cell_type": "code",
   "execution_count": 57,
   "metadata": {},
   "outputs": [
    {
     "name": "stdout",
     "output_type": "stream",
     "text": [
      "1 2 3 4 5 6 7 8 9 A B 12 13 14\n"
     ]
    }
   ],
   "source": [
    "remove_dups(my_list)"
   ]
  },
  {
   "cell_type": "code",
   "execution_count": null,
   "metadata": {},
   "outputs": [],
   "source": []
  },
  {
   "cell_type": "code",
   "execution_count": null,
   "metadata": {},
   "outputs": [],
   "source": []
  }
 ],
 "metadata": {
  "kernelspec": {
   "display_name": "Python 3",
   "language": "python",
   "name": "python3"
  },
  "language_info": {
   "codemirror_mode": {
    "name": "ipython",
    "version": 3
   },
   "file_extension": ".py",
   "mimetype": "text/x-python",
   "name": "python",
   "nbconvert_exporter": "python",
   "pygments_lexer": "ipython3",
   "version": "3.7.4"
  }
 },
 "nbformat": 4,
 "nbformat_minor": 2
}
