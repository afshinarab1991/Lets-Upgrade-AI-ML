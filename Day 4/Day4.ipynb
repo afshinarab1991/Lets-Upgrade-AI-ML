{
 "cells": [
  {
   "cell_type": "markdown",
   "metadata": {},
   "source": [
    "### Question 1 : \n",
    "Research on whether addition, subtraction, multiplication, division, floor division and modulo operations be performed on complex numbers. Based on your study, implement a Python program to demonstrate these operations"
   ]
  },
  {
   "cell_type": "code",
   "execution_count": 77,
   "metadata": {},
   "outputs": [
    {
     "name": "stdout",
     "output_type": "stream",
     "text": [
      "Enter the first complex number(format a+bj):\n",
      "23\n",
      "Enter the second complex number(format a+bj):\n",
      "10\n",
      "Select an operation type: \n",
      "1.Addition \n",
      "2.Subtraction \n",
      "3.Multiplication \n",
      "4.Division \n",
      "5.Floor Division \n",
      "6.Modulo\n",
      "6\n",
      "--------------------------\n",
      "Cannot do Modulous Division on complex numbers. \n",
      "But the Modulous Division operation on convreted numbers is:\n",
      "3.0\n"
     ]
    }
   ],
   "source": [
    "while True:\n",
    "    try:\n",
    "        a = (complex(input(\"Enter the first complex number(format a+bj):\\n\")))\n",
    "        b = (complex(input(\"Enter the second complex number(format a+bj):\\n\")))\n",
    "        selection = int(input(f\"Select an operation type: \\n1.Addition \\n2.Subtraction \\n3.Multiplication \\n4.Division \\n5.Floor Division \\n6.Modulo\\n\"))\n",
    "        line = \"-\"*26\n",
    "        if selection == 1:\n",
    "            print(f\"{line}\\n{a} + {b} is {a+b}\")\n",
    "        if selection == 2:\n",
    "            print(f\"{line}\\n{a} - {b} is {a-b}\")\n",
    "        if selection == 3:\n",
    "            print(f\"{line}\\n{a} * {b} is {a*b}\")\n",
    "        if selection == 4:\n",
    "            print(f\"{line}\\n{a} / {b} is {a/b}\")\n",
    "        if selection == 5: #floor\n",
    "            print(f\"{line}\\n{a} // {b} is {a//b}\")\n",
    "        if selection == 6: #modulo\n",
    "            print(f\"{line}\\n{a} % {b} is {a%b}\")\n",
    "        break\n",
    "    except ValueError:\n",
    "        print(\"{line}\\n**INVALID INPUT TYPE**\\nTry Again\")\n",
    "    except TypeError:\n",
    "        op_type = \"Floor Division\" if selection == 5 else \"Modulous Division\"\n",
    "        a = a.real\n",
    "        b = b.real\n",
    "        final = (a//b) if selection == 5 else (a%b)\n",
    "        print(f\"{line}\\nCannot do {op_type} on complex numbers. \\nBut the {op_type} operation on convreted numbers is:\\n{final}\") \n",
    "        break\n",
    "        \n",
    "        "
   ]
  },
  {
   "cell_type": "markdown",
   "metadata": {},
   "source": [
    "### Question 2 : \n",
    "Research on range() functions and its parameters. Create a markdown cell and write in your own words (no copy-paste from google please) what you understand about it. Implement a small program of your choice on the same. \n",
    " "
   ]
  },
  {
   "cell_type": "markdown",
   "metadata": {},
   "source": [
    "Range functions can be mostly implemented in loops which we can define a range of values. For example, list of even numbers in a specific range of numbers. Find random numbers in a defined range. Using range function to create indexes and so many more!"
   ]
  },
  {
   "cell_type": "code",
   "execution_count": 3,
   "metadata": {},
   "outputs": [
    {
     "name": "stdout",
     "output_type": "stream",
     "text": [
      "Enter a range of values in form of a,b where a and b are numbers:\n",
      "Note: If you enter more than two numbers the last number will be used.\n",
      "-2+13j,-59+1j\n",
      "--------------------------------------------------------------------------------------------------------\n",
      "Total number of odd numbers in range of '-59' to '-2' is 29:\n",
      "[-59, -57, -55, -53, -51, -49, -47, -45, -43, -41, -39, -37, -35, -33, -31, -29, -27, -25, -23, -21, -19, -17, -15, -13, -11, -9, -7, -5, -3]\n",
      "--------------------------------------------------------------------------------------------------------\n",
      "Total number of even numbers in range of '-59' to '-2' is 28:\n",
      "[-58, -56, -54, -52, -50, -48, -46, -44, -42, -40, -38, -36, -34, -32, -30, -28, -26, -24, -22, -20, -18, -16, -14, -12, -10, -8, -6, -4]\n",
      "--------------------------------------------------------------------------------------------------------\n"
     ]
    }
   ],
   "source": [
    "# find even and odd numbers in a specific range:\n",
    "while True:\n",
    "    try:\n",
    "        range_input = (input(\"Enter a range of values in form of a,b where a and b are numbers:\\nNote: If you enter more than two numbers the last number will be used.\\n\"))\n",
    "        x = (range_input.split(\",\")[0])\n",
    "        y = (range_input.split(\",\")[-1])\n",
    "        #if user types complex numbers:\n",
    "        x,y =  complex(x),complex(y)\n",
    "        x,y = x.real,y.real\n",
    "        #if user types reversed list or negative values.\n",
    "        a = x if x < y else y \n",
    "        b = y if y > x else x\n",
    "        a,b = int(a),int(b)\n",
    "        #------------------------------\n",
    "        odds = []\n",
    "        evens = []\n",
    "        for i in range(a,b):\n",
    "            if i%2 == 0:\n",
    "                evens.append(i)\n",
    "            else:\n",
    "                odds.append(i)\n",
    "        #--------to determine the length of the dividing line---just for decoration!:\n",
    "        ln_extended = (\"-\"*36)+\"-\"*(len(odds)*2)+(\"-\"*10) if len(odds) <= 44 else (\"-\"*126)\n",
    "        ln = \"-\"*60 if len(odds) <= 11 else ln_extended\n",
    "        #----------------------------------\n",
    "        print(f\"{ln}\\nTotal number of odd numbers in range of '{a}' to '{b}' is {len(odds)}:\\n{odds}\")\n",
    "        print(f\"{ln}\\nTotal number of even numbers in range of '{a}' to '{b}' is {len(evens)}:\\n{evens}\\n{ln}\")\n",
    "        break\n",
    "    except ValueError:\n",
    "        ln = \"-\"*60\n",
    "        print(f\"{ln}\\n**INVALID INPUT TYPE**\\nTry Again\")\n",
    "        print(f\"{ln}\\nInputs are:\\n{a},\\n{b}\")\n"
   ]
  },
  {
   "cell_type": "markdown",
   "metadata": {},
   "source": [
    "### Question 3:  \n",
    "Consider two numbers. Perform their subtraction and if the result of subtraction is greater than 25, print their multiplication result else print their division result. \n",
    " "
   ]
  },
  {
   "cell_type": "code",
   "execution_count": 13,
   "metadata": {},
   "outputs": [
    {
     "name": "stdout",
     "output_type": "stream",
     "text": [
      "Enter two numbers in form of a,b where a and b are the numbers (eg. 20,10):\n",
      "Note: If you enter more than two numbers the last number will be used.\n",
      "20-23\n",
      "{line}\n",
      "**INVALID INPUT TYPE**\n",
      "Try Again\n",
      "Enter two numbers in form of a,b where a and b are the numbers (eg. 20,10):\n",
      "Note: If you enter more than two numbers the last number will be used.\n",
      "45,3\n",
      "The subtraction of 45.0 and 3.0 is: 42.0, which is greater than 25. Therefore multiplication operated:\n",
      "135.0\n"
     ]
    }
   ],
   "source": [
    "while True:\n",
    "    try:\n",
    "        range_input = str(input(\"Enter two numbers in form of a,b where a and b are the numbers (eg. 20,10):\\nNote: If you enter more than two numbers the last number will be used.\\n\"))\n",
    "        a = float(range_input.split(\",\")[0])\n",
    "        b = float(range_input.split(\",\")[-1])\n",
    "        condition = True if a-b > 25 else False\n",
    "        #-------condition----------\n",
    "        if condition:\n",
    "            result = round(a*b,3)\n",
    "            criteria = \"multiplication\"\n",
    "            prop = \"greater\"\n",
    "        else:\n",
    "            result = round(a/b,3)\n",
    "            criteria = \"division\"\n",
    "            prop = \"lesser\"\n",
    "        #---------------------------\n",
    "        msg = f\"The subtraction of {round(a,3)} and {round(b,3)} is: {round(a-b,3)}, which is {prop} than 25. Therefore {criteria} operated:\"\n",
    "        print(f\"{msg}\\n{result}\")\n",
    "        break\n",
    "    except ValueError:\n",
    "        print(\"{line}\\n**INVALID INPUT TYPE**\\nTry Again\")"
   ]
  },
  {
   "cell_type": "markdown",
   "metadata": {},
   "source": [
    "### Question 4: \n",
    "Consider a list of 10 elements of integer values. If the number in the list is divisible by 2, print the result as \"square of that number minus 2\". "
   ]
  },
  {
   "cell_type": "code",
   "execution_count": 73,
   "metadata": {},
   "outputs": [
    {
     "name": "stdout",
     "output_type": "stream",
     "text": [
      "Enter a list of integers seperated by commas (eg. 19,2,3,4); \n",
      "or define a range of numbers like a,b where a and b are the integers (eg. 2,10)\n",
      "**NOTE: Ignore the parentheses!\n",
      "10,2\n",
      "_____________________________________________\n",
      "Numbers divisible by 2 are in range of 2 to 10:\n",
      "[2, 4, 6, 8].\n",
      "_____________________________________________\n",
      "And here is the list of square of these numbers minus two:\n",
      "[-0.586, 0.0, 0.449, 0.828] \n"
     ]
    }
   ],
   "source": [
    "while True:\n",
    "    try:\n",
    "        user_input = input(\"Enter a list of integers seperated by commas (eg. 19,2,3,4); \\nor define a range of numbers like a,b where a and b are the integers (eg. 2,10)\\n**NOTE: Ignore the parentheses!\\n\")\n",
    "        splited_input = user_input.split(\",\")\n",
    "        evens = []\n",
    "        result = []\n",
    "        line = \"_\"*45\n",
    "        if len(splited_input) < 3:\n",
    "            x = int(splited_input[0])\n",
    "            y = int(splited_input[-1])\n",
    "            #if user types reversed list or minus values.\n",
    "            a = x if x < y else y \n",
    "            b = y if y > x else x \n",
    "            for i in range(a,b):\n",
    "                if i % 2 == 0:\n",
    "                    evens.append(i)\n",
    "            if len(evens) == 0:\n",
    "                print (\"NO NUMBERS FOUND!\")\n",
    "            else:\n",
    "                for j in evens:\n",
    "                    j = j**(0.5)-2\n",
    "                    if type(j) == float:\n",
    "                        j = round(j,3)\n",
    "                    result.append(j)               \n",
    "                print(f\"{line}\\nNumbers divisible by 2 are in range of {a} to {b}:\\n{evens}.\\n{line}\\nAnd here is the list of square of these numbers minus two:\\n{result} \")\n",
    "        else:\n",
    "            for i in list(splited_input):\n",
    "                if int(i) % 2 == 0:\n",
    "                    evens.append(int(i))\n",
    "            if len(evens) == 0:\n",
    "                print (\"NO NUMBERS FOUND!\")\n",
    "            else:\n",
    "                for j in evens:\n",
    "                    j = j**(0.5)-2\n",
    "                    if type(j) == float:\n",
    "                        j = round(j,3)\n",
    "                    result.append(j)               \n",
    "                print(f\"{line}\\nNumbers divisible by 2 are in the list:\\n{evens}.\\n{line}\\nAnd here is a list of square of these numbers minus two:\\n{result} \") \n",
    "        break\n",
    "    except ValueError:\n",
    "        print(\"{line}\\n**INVALID INPUT TYPE**\\nTry Again\")"
   ]
  },
  {
   "cell_type": "markdown",
   "metadata": {},
   "source": [
    "### Question 5:\n",
    "Consider a list of 10 elements. Print all the elements in the list which are greater than 7 when that\n",
    "number is divided 2."
   ]
  },
  {
   "cell_type": "code",
   "execution_count": 5,
   "metadata": {},
   "outputs": [
    {
     "name": "stdout",
     "output_type": "stream",
     "text": [
      "Enter a list of integers seperated by commas (eg. 19,2,3,4); \n",
      "or define a range of numbers like a,b where a and b are the integers (eg. 2,10)\n",
      "**NOTE: Ignore the parentheses!\n",
      "2+1j,20\n",
      "{line}\n",
      "**INVALID INPUT TYPE**\n",
      "Try Again\n",
      "Enter a list of integers seperated by commas (eg. 19,2,3,4); \n",
      "or define a range of numbers like a,b where a and b are the integers (eg. 2,10)\n",
      "**NOTE: Ignore the parentheses!\n",
      "20,-2\n",
      "_____________________________________________\n",
      "Numbers that are greater than 7 when divided by 2 in the range of -2 to 20:\n",
      "[15, 16, 17, 18, 19].\n",
      "_____________________________________________\n"
     ]
    }
   ],
   "source": [
    "while True:\n",
    "    try:\n",
    "        user_input = input(\"Enter a list of integers seperated by commas (eg. 19,2,3,4); \\nor define a range of numbers like a,b where a and b are the integers (eg. 2,10)\\n**NOTE: Ignore the parentheses!\\n\")\n",
    "        splited_input = user_input.split(\",\")\n",
    "        my_list = []\n",
    "        result = []\n",
    "        line = \"_\"*45\n",
    "        if len(splited_input) < 3:\n",
    "            x = int(splited_input[0])\n",
    "            y = int(splited_input[-1])\n",
    "            #if user types reversed list or minus values.\n",
    "            a = x if x < y else y\n",
    "            b = y if y > x else x    \n",
    "            for i in range(a,b):\n",
    "                if i / 2 > 7:\n",
    "                    my_list.append(i)\n",
    "            if len(my_list) == 0:\n",
    "                print (\"NO NUMBERS FOUND!\")\n",
    "            else:\n",
    "                for j in my_list:\n",
    "                    j = round(j**(0.5) - 2,3)\n",
    "                    result.append(j)               \n",
    "                print(f\"{line}\\nNumbers that are greater than 7 when divided by 2 in the range of {a} to {b}:\\n{my_list}.\\n{line}\")\n",
    "        else:\n",
    "            for i in list(splited_input):\n",
    "                if int(i) / 2 > 7:\n",
    "                    my_list.append(int(i))\n",
    "            if len(my_list) == 0:\n",
    "                print (\"NO NUMBERS FOUND!\")\n",
    "            else:\n",
    "                for j in my_list:\n",
    "                    j = round(j**(0.5) - 2,3)\n",
    "                    result.append(j)               \n",
    "                print(f\"{line}\\nNumbers in the list that are greater than 7 when divided by 2:\\n{my_list}.\\n{line}\") \n",
    "        break\n",
    "    except ValueError:\n",
    "        print(\"{line}\\n**INVALID INPUT TYPE**\\nTry Again\")"
   ]
  },
  {
   "cell_type": "code",
   "execution_count": null,
   "metadata": {},
   "outputs": [],
   "source": []
  },
  {
   "cell_type": "code",
   "execution_count": null,
   "metadata": {},
   "outputs": [],
   "source": []
  }
 ],
 "metadata": {
  "kernelspec": {
   "display_name": "Python 3",
   "language": "python",
   "name": "python3"
  },
  "language_info": {
   "codemirror_mode": {
    "name": "ipython",
    "version": 3
   },
   "file_extension": ".py",
   "mimetype": "text/x-python",
   "name": "python",
   "nbconvert_exporter": "python",
   "pygments_lexer": "ipython3",
   "version": "3.7.4"
  }
 },
 "nbformat": 4,
 "nbformat_minor": 2
}
