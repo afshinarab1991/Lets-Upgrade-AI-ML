{
 "cells": [
  {
   "cell_type": "markdown",
   "metadata": {},
   "source": [
    "### Question 1 : \n",
    "Write a Python program to find the first 20 non-even prime natural numbers. "
   ]
  },
  {
   "cell_type": "code",
   "execution_count": 16,
   "metadata": {},
   "outputs": [
    {
     "name": "stdout",
     "output_type": "stream",
     "text": [
      "[1, 2, 3, 5, 7, 11, 13, 17, 19, 23, 29, 31, 37, 41, 43, 47, 53, 59, 61, 67]\n"
     ]
    }
   ],
   "source": [
    "#--------defining a function to find out if a number is prime or not:\n",
    "def isPrime (n):\n",
    "    for i in range(2,n):\n",
    "        if (n % i) == 0:\n",
    "            isitPrime = False\n",
    "            return isitPrime\n",
    "            break\n",
    "    else:\n",
    "        isitPrime = True\n",
    "        return isitPrime\n",
    "#-----------------------finding the first 20 prime natural numbers------------\n",
    "Primes = [1]\n",
    "x = 1\n",
    "while len(Primes) < 20  : #if we remove the first part it will go forever.\n",
    "    x += 1\n",
    "    if isPrime(x) == True:\n",
    "        Primes.append(x)\n",
    "        #print(x)\n",
    "print(Primes)"
   ]
  },
  {
   "cell_type": "markdown",
   "metadata": {},
   "source": [
    "### Question 2 :\n",
    "Write a Python program to implement 15 functions of string. "
   ]
  },
  {
   "cell_type": "code",
   "execution_count": 67,
   "metadata": {},
   "outputs": [
    {
     "name": "stdout",
     "output_type": "stream",
     "text": [
      "Capitilized: Built purse maids cease her ham new seven among and. pulled coming wooded tended it answer remain me be. so landlord by we unlocked sensible it. fat cannot use denied excuse son law\n",
      "*******************************************************************************\n",
      "Lower Case: built purse maids cease her ham new seven among and. pulled coming wooded tended it answer remain me be. so landlord by we unlocked sensible it. fat cannot use denied excuse son law\n",
      "*******************************************************************************\n",
      "Count of 'it': 2\n",
      "*******************************************************************************\n",
      "IsDigit?: False\n",
      "*******************************************************************************\n",
      "IsNumeric?: False\n",
      "*******************************************************************************\n",
      "IsAlphabets?: False\n",
      "*******************************************************************************\n",
      "IsDecimals?: False\n",
      "*******************************************************************************\n",
      "Find index of 'purse': 6\n",
      "*******************************************************************************\n",
      "Find index of 'coke' using index command: -1 \n",
      "-1 indicates there is no 'coke' in the string\n",
      "*******************************************************************************\n",
      "Replace 'it' with '**': built purse maids cease her ham new seven among and. Pulled coming wooded tended ** answer remain me be. So landlord by we unlocked sensible **. Fat cannot use denied excuse son law\n",
      "*******************************************************************************\n",
      "Split using '.': ['built purse maids cease her ham new seven among and', ' Pulled coming wooded tended it answer remain me be', ' So landlord by we unlocked sensible it', ' Fat cannot use denied excuse son law']\n",
      "*******************************************************************************\n",
      "Swap Case: BUILT PURSE MAIDS CEASE HER HAM NEW SEVEN AMONG AND. pULLED COMING WOODED TENDED IT ANSWER REMAIN ME BE. sO LANDLORD BY WE UNLOCKED SENSIBLE IT. fAT CANNOT USE DENIED EXCUSE SON LAW\n",
      "*******************************************************************************\n",
      "Title: Built Purse Maids Cease Her Ham New Seven Among And. Pulled Coming Wooded Tended It Answer Remain Me Be. So Landlord By We Unlocked Sensible It. Fat Cannot Use Denied Excuse Son Law\n",
      "*******************************************************************************\n",
      "Uppercase: BUILT PURSE MAIDS CEASE HER HAM NEW SEVEN AMONG AND. PULLED COMING WOODED TENDED IT ANSWER REMAIN ME BE. SO LANDLORD BY WE UNLOCKED SENSIBLE IT. FAT CANNOT USE DENIED EXCUSE SON LAW\n",
      "*******************************************************************************\n",
      "If starts with 'built': True\n",
      "*******************************************************************************\n"
     ]
    }
   ],
   "source": [
    "# I am not sure about the question!\n",
    "# desc = \"\"\"\n",
    "# f1  = Converts the first character to upper case\n",
    "# f2  = Converts a string into lower case\n",
    "# f3  = Returns the number of times a specified value occurs in a string\n",
    "# f4  = Returns an encoded version of the string\n",
    "# f5  = Searches the string for a specified value\n",
    "# f6  = Same as f5, but returns -1 if the value is not found\n",
    "# f7  = Returns True if all characters in the string are alphanumeric\n",
    "# f8  = Returns True if all characters in the string are in the alphabet\n",
    "# f9  = Returns True if all characters in the string are decimals\n",
    "# f10 = Returns a string where a specified value is replaced with a value\n",
    "# f11 = Splits the string at the specified separator, and returns a list\n",
    "# f12 = Swaps cases, lower case becomes upper case and vice versa\n",
    "# f13 = Converts the first character of each word to upper case\n",
    "# f14 = Converts a string into upper case\n",
    "# f15 = Returns true if the string starts with the specified value\n",
    "# \"\"\"\n",
    "line = \"*\"*79\n",
    "string1 = \"built purse maids cease her ham new seven among and. Pulled coming wooded tended it answer remain me be. So landlord by we unlocked sensible it. Fat cannot use denied excuse son law\"\n",
    "print(f\"Capitilized: {string1.capitalize()}\\n{line}\")\n",
    "print(f\"Lower Case: {string1.lower()}\\n{line}\")\n",
    "c = string1.count(\"it\")\n",
    "print(f\"Count of 'it': {c}\\n{line}\")\n",
    "print(f\"IsDigit?: {string1.isdigit()}\\n{line}\")\n",
    "print(f\"IsNumeric?: {string1.isalnum()}\\n{line}\")\n",
    "print(f\"IsAlphabets?: {string1.isalpha()}\\n{line}\")\n",
    "print(f\"IsDecimals?: {string1.isdecimal()}\\n{line}\")\n",
    "f = string1.find(\"purse\")\n",
    "print(f\"Find index of 'purse': {f}\\n{line}\")\n",
    "f1 = string1.find(\"coke\")\n",
    "print(f\"Find index of 'coke' using index command: {f1} \\n-1 indicates there is no 'coke' in the string\\n{line}\")\n",
    "r = string1.replace(\"it\",\"**\")\n",
    "print(f\"Replace 'it' with '**': {r}\\n{line}\")\n",
    "spl = string1.split(\".\")\n",
    "print(f\"Split using '.': {spl}\\n{line}\")\n",
    "print(f\"Swap Case: {string1.swapcase()}\\n{line}\")\n",
    "print(f\"Title: {string1.title()}\\n{line}\")\n",
    "print(f\"Uppercase: {string1.upper()}\\n{line}\")\n",
    "sw = string1.startswith(\"built \")\n",
    "print(f\"If starts with 'built': {sw}\\n{line}\")\n",
    "\n",
    "\n",
    "    \n",
    "    "
   ]
  },
  {
   "cell_type": "markdown",
   "metadata": {},
   "source": [
    "### Question 3: \n",
    "Write a Python program to check if the given string is a Palindrome or Anagram or None of them. Display the message accordingly to the user. "
   ]
  },
  {
   "cell_type": "code",
   "execution_count": 74,
   "metadata": {},
   "outputs": [
    {
     "name": "stdout",
     "output_type": "stream",
     "text": [
      "True\n",
      "False\n"
     ]
    }
   ],
   "source": [
    "def isAnagram(s1, s2):\n",
    "    ls1 = list(s1)\n",
    "    ls1.sort()\n",
    "    ls2 = list(s2)\n",
    "    ls2.sort()\n",
    "\n",
    "    return (ls1 == ls2)\n",
    "\n",
    "print(is_anagram('anagram','nagaram'))\n",
    "print(is_anagram('tool','bool'))"
   ]
  },
  {
   "cell_type": "code",
   "execution_count": null,
   "metadata": {},
   "outputs": [],
   "source": [
    "def isPalindrome(string): \n",
    "    if string == string[::-1]:\n",
    "        return True\n",
    "    else:\n",
    "        return False\n",
    "    \n",
    "string = \"afshinnihsfa\"\n",
    "isPalindrome(string) "
   ]
  },
  {
   "cell_type": "markdown",
   "metadata": {},
   "source": [
    "### Question 4: \n",
    "Write a Python's user defined function that removes all the additional characters from the string and converts it finally to lower case using built-in lower(). eg: If the string is \"Dr. Darshan Ingle @AI-ML Trainer\", then the output be \"drdarshaningleaimltrainer\". "
   ]
  },
  {
   "cell_type": "code",
   "execution_count": 103,
   "metadata": {},
   "outputs": [
    {
     "name": "stdout",
     "output_type": "stream",
     "text": [
      "Original Sentence:Dr. Darshan Ingle @AI-ML Trainer\n",
      "Modified Sentece:drdarshaningleaimltrainer\n"
     ]
    }
   ],
   "source": [
    "special_chars = [\"!\",\"@\",\"#\",\"$\",\"%\",\"^\",\"&\",\"*\",\"(\",\")\",\"+\",\"-\",\"_\",\"[\",\"]\",\"`\",\"~\",\":\",\";\",\".\",\"/\",\" \"]\n",
    "def removeChar(string):\n",
    "    s_org = string\n",
    "    for i in special_chars:\n",
    "        string = string.replace(i,'')\n",
    "        string = string.lower()\n",
    "    print(f\"Original Sentence:{s_org}\")\n",
    "    print(f\"Modified Sentece:{string}\")\n",
    "string =  \"Dr. Darshan Ingle @AI-ML Trainer\"\n",
    "removeChar(string)"
   ]
  },
  {
   "cell_type": "code",
   "execution_count": null,
   "metadata": {},
   "outputs": [],
   "source": []
  }
 ],
 "metadata": {
  "kernelspec": {
   "display_name": "Python 3",
   "language": "python",
   "name": "python3"
  },
  "language_info": {
   "codemirror_mode": {
    "name": "ipython",
    "version": 3
   },
   "file_extension": ".py",
   "mimetype": "text/x-python",
   "name": "python",
   "nbconvert_exporter": "python",
   "pygments_lexer": "ipython3",
   "version": "3.7.4"
  }
 },
 "nbformat": 4,
 "nbformat_minor": 2
}
